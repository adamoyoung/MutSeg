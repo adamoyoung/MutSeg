{
 "cells": [
  {
   "cell_type": "code",
   "execution_count": 1,
   "metadata": {},
   "outputs": [],
   "source": [
    "import numpy as np\n",
    "import sys"
   ]
  },
  {
   "cell_type": "code",
   "execution_count": 2,
   "metadata": {},
   "outputs": [],
   "source": [
    "# define log and divide functions to avoid numerical errors\n",
    "EPS = np.finfo(np.float).eps\n",
    "def safelog(x):\n",
    "    return np.log(x+EPS)\n",
    "def safedivide(x,y):\n",
    "    return x / (y+EPS)"
   ]
  },
  {
   "cell_type": "code",
   "execution_count": 3,
   "metadata": {},
   "outputs": [],
   "source": [
    "np.set_printoptions(suppress=True)\n",
    "np.random.seed(420)"
   ]
  },
  {
   "cell_type": "code",
   "execution_count": 4,
   "metadata": {},
   "outputs": [
    {
     "name": "stdout",
     "output_type": "stream",
     "text": [
      ">>> SETTINGS\n",
      "> dims = [100, 100]\n",
      "> size of support = 10000\n",
      "> n = 100\n"
     ]
    }
   ],
   "source": [
    "# to simulate our data, we will have p = product(dims) >> n\n",
    "dims = [100,100]\n",
    "n = 100\n",
    "support_size = np.prod(dims)\n",
    "print_probs = True\n",
    "if np.product(dims) > 50:\n",
    "    print_probs = False\n",
    "print(\">>> SETTINGS\")\n",
    "print(\"> dims = {}\".format(dims))\n",
    "print(\"> size of support = {}\".format(support_size))\n",
    "print(\"> n = {}\".format(n))"
   ]
  },
  {
   "cell_type": "code",
   "execution_count": 5,
   "metadata": {},
   "outputs": [],
   "source": [
    "# true_p_xy = np.random.ranp.prod(dims)nd(dims[0],dims[1])\n",
    "# true_p_xy /= np.sum(true_p_xy)\n",
    "true_p_xy = np.random.dirichlet((2/support_size)*np.ones(support_size)).reshape(dims[0],dims[1])\n",
    "# print(true_p_xy)\n",
    "true_p_x = np.sum(true_p_xy,axis=1)\n",
    "true_p_y = np.sum(true_p_xy,axis=0)\n",
    "true_p_ygx = safedivide(true_p_xy, true_p_x.reshape(-1,1))\n",
    "true_h_x = -np.sum(true_p_x * safelog(true_p_x))\n",
    "true_h_y = -np.sum(true_p_y * safelog(true_p_y))\n",
    "true_h_xy = -np.sum(true_p_xy * safelog(true_p_xy))\n",
    "true_mi_xy = true_h_x + true_h_y - true_h_xy\n",
    "\n",
    "if print_probs:\n",
    "    print(\">>> TRUE\")\n",
    "    print(true_p_xy)\n",
    "    print(true_p_x)\n",
    "    print(true_p_y)\n",
    "    print(true_p_ygx)"
   ]
  },
  {
   "cell_type": "code",
   "execution_count": 6,
   "metadata": {},
   "outputs": [],
   "source": [
    "# sample from multinoulli n times with probabilities true_p_xy\n",
    "obs_xy = np.random.multinomial(n,true_p_xy.flatten()).reshape(dims[0],dims[1])\n",
    "obs_x = np.sum(obs_xy,axis=1)\n",
    "obs_y = np.sum(obs_xy,axis=0)\n",
    "\n",
    "if print_probs:\n",
    "    print(\">>> OBS\")\n",
    "    print(obs_xy)\n",
    "    print(obs_x)\n",
    "    print(obs_y)"
   ]
  },
  {
   "cell_type": "code",
   "execution_count": 7,
   "metadata": {},
   "outputs": [],
   "source": [
    "mle_p_xy = safedivide(obs_xy, np.sum(obs_xy))\n",
    "mle_p_x = safedivide(obs_x, np.sum(obs_x))\n",
    "mle_p_y = safedivide(obs_y, np.sum(obs_y))\n",
    "mle_p_ygx = safedivide(obs_xy, obs_x.reshape(-1,1))\n",
    "\n",
    "# verify that all of the probs are still probs\n",
    "assert np.isclose(np.sum(mle_p_xy), 1.)\n",
    "assert np.isclose(np.sum(mle_p_x), 1.)\n",
    "assert np.isclose(np.sum(mle_p_y), 1.)\n",
    "assert np.all(np.logical_or(np.isclose(np.sum(mle_p_ygx,axis=1),1.),np.isclose(np.sum(mle_p_ygx,axis=1),0.)))\n",
    "\n",
    "if print_probs:\n",
    "    print(\">>> MLE\")\n",
    "    print(mle_p_xy)\n",
    "    print(mle_p_x)\n",
    "    print(mle_p_y)\n",
    "    print(mle_p_ygx)"
   ]
  },
  {
   "cell_type": "code",
   "execution_count": 8,
   "metadata": {},
   "outputs": [],
   "source": [
    "t_xy = 1. / np.prod(obs_xy.shape)\n",
    "lambda_xy = (1. - np.sum(mle_p_xy**2)) / ((n-1)*np.sum((t_xy-mle_p_xy)**2))\n",
    "js_p_xy = lambda_xy*t_xy + (1-lambda_xy)*mle_p_xy\n",
    "\n",
    "t_x = 1. / np.prod(obs_x.shape)\n",
    "lambda_x = (1. - np.sum(mle_p_x**2)) / ((n-1)*np.sum((t_x-mle_p_x)**2))\n",
    "js_p_x = lambda_x*t_x + (1-lambda_x)*mle_p_x\n",
    "\n",
    "t_y = 1. / np.prod(obs_y.shape)\n",
    "lambda_y = (1. - np.sum(mle_p_y**2)) / ((n-1)*np.sum((t_y-mle_p_y)**2))\n",
    "js_p_y = lambda_y*t_y + (1-lambda_y)*mle_p_y\n",
    "\n",
    "t_ygx = 1. / obs_xy.shape[1]\n",
    "lambda_ygx = (1. - np.sum(mle_p_ygx**2,axis=1)) / ((n-1)*np.sum((t_ygx-mle_p_ygx)**2,axis=1))\n",
    "lambda_ygx = lambda_ygx.reshape(-1,1)\n",
    "js_p_ygx = lambda_ygx*t_ygx + (1-lambda_ygx)*mle_p_ygx\n",
    "\n",
    "# verify that all of the probs are still probs\n",
    "assert np.isclose(np.sum(js_p_xy), 1.)\n",
    "assert np.isclose(np.sum(js_p_x), 1.)\n",
    "assert np.isclose(np.sum(js_p_y), 1.)\n",
    "assert np.all(np.logical_or(np.isclose(np.sum(js_p_ygx,axis=1),1.),np.isclose(np.sum(js_p_ygx,axis=1),np.max(lambda_ygx))))\n",
    "\n",
    "if print_probs:\n",
    "    print(\">>> JS\")\n",
    "    print(js_p_xy)\n",
    "    print(js_p_x)\n",
    "    print(js_p_y)\n",
    "    print(js_p_ygx)"
   ]
  },
  {
   "cell_type": "code",
   "execution_count": 9,
   "metadata": {},
   "outputs": [
    {
     "name": "stdout",
     "output_type": "stream",
     "text": [
      ">>> TRUE\n",
      "H(X) = 1.15\n",
      "H(Y) = 1.15\n",
      "H(X,Y) = 1.15\n",
      "I(X;Y) = 1.14\n"
     ]
    }
   ],
   "source": [
    "# compare estimators for various information quantities\n",
    "\n",
    "# these are the ground truth values\n",
    "\n",
    "print(\">>> TRUE\")\n",
    "print(f\"H(X) = {true_h_x:.2f}\")\n",
    "print(f\"H(Y) = {true_h_y:.2f}\")\n",
    "print(f\"H(X,Y) = {true_h_xy:.2f}\")\n",
    "print(f\"I(X;Y) = {true_mi_xy:.2f}\")"
   ]
  },
  {
   "cell_type": "code",
   "execution_count": 10,
   "metadata": {},
   "outputs": [
    {
     "name": "stdout",
     "output_type": "stream",
     "text": [
      ">>> MLE\n",
      "H(X) = 1.04, Δ=-0.10\n",
      "H(Y) = 1.04, Δ=-0.11\n",
      "H(X,Y) = 1.04, Δ=-0.11\n",
      "I(X;Y) = 1.04, Δ=-0.10\n"
     ]
    }
   ],
   "source": [
    "# first approach: MLE\n",
    "\n",
    "mle_h_x = -np.sum(mle_p_x * safelog(mle_p_x))\n",
    "mle_h_y = -np.sum(mle_p_y * safelog(mle_p_y))\n",
    "mle_h_xy = -np.sum(mle_p_xy * safelog(mle_p_xy))\n",
    "mle_mi_xy = mle_h_x + mle_h_y - mle_h_xy\n",
    "\n",
    "print(\">>> MLE\")\n",
    "print(f\"H(X) = {mle_h_x:.2f}, Δ={mle_h_x-true_h_x:.2f}\")\n",
    "print(f\"H(Y) = {mle_h_y:.2f}, Δ={mle_h_y-true_h_y:.2f}\")\n",
    "print(f\"H(X,Y) = {mle_h_xy:.2f}, Δ={mle_h_xy-true_h_xy:.2f}\")\n",
    "print(f\"I(X;Y) = {mle_mi_xy:.2f}, Δ={mle_mi_xy-true_mi_xy:.2f}\")"
   ]
  },
  {
   "cell_type": "code",
   "execution_count": 11,
   "metadata": {},
   "outputs": [
    {
     "name": "stdout",
     "output_type": "stream",
     "text": [
      ">>> JS\n",
      "H(X) = 1.12, Δ=-0.03\n",
      "H(Y) = 1.12, Δ=-0.03\n",
      "H(X,Y) = 1.17, Δ=0.02\n",
      "I(X;Y) = 1.07, Δ=-0.07\n"
     ]
    }
   ],
   "source": [
    "# second approach: James-Stein shrinkage\n",
    "\n",
    "js_h_x = -np.sum(js_p_x * safelog(js_p_x))\n",
    "js_h_y = -np.sum(js_p_y * safelog(js_p_y))\n",
    "js_h_xy = -np.sum(js_p_xy * safelog(js_p_xy))\n",
    "js_mi_xy_1 = js_h_x + js_h_y - js_h_xy\n",
    "js_h_xgy = -np.sum(js_p_x * np.sum(js_p_ygx * safelog(js_p_ygx), axis=1))\n",
    "# js_mi_xy_2 = js_h_x - js_h_xgy\n",
    "\n",
    "print(\">>> JS\")\n",
    "print(f\"H(X) = {js_h_x:.2f}, Δ={js_h_x-true_h_x:.2f}\")\n",
    "print(f\"H(Y) = {js_h_y:.2f}, Δ={js_h_y-true_h_y:.2f}\")\n",
    "print(f\"H(X,Y) = {js_h_xy:.2f}, Δ={js_h_xy-true_h_xy:.2f}\")\n",
    "print(f\"I(X;Y) = {js_mi_xy_1:.2f}, Δ={js_mi_xy_1-true_mi_xy:.2f}\")\n",
    "# print(f\"{js_mi_xy_2:.2f}, Δ={js_mi_xy_2-true_mi_xy:.2f}\")"
   ]
  },
  {
   "cell_type": "code",
   "execution_count": 12,
   "metadata": {},
   "outputs": [],
   "source": [
    "# support_size = 3*5\n",
    "# d = np.random.dirichlet((2/support_size)*np.ones(support_size))\n",
    "# print(d)"
   ]
  },
  {
   "cell_type": "code",
   "execution_count": null,
   "metadata": {},
   "outputs": [],
   "source": []
  },
  {
   "cell_type": "code",
   "execution_count": null,
   "metadata": {},
   "outputs": [],
   "source": []
  }
 ],
 "metadata": {
  "kernelspec": {
   "display_name": "Python 3",
   "language": "python",
   "name": "python3"
  },
  "language_info": {
   "codemirror_mode": {
    "name": "ipython",
    "version": 3
   },
   "file_extension": ".py",
   "mimetype": "text/x-python",
   "name": "python",
   "nbconvert_exporter": "python",
   "pygments_lexer": "ipython3",
   "version": "3.7.6"
  }
 },
 "nbformat": 4,
 "nbformat_minor": 2
}
