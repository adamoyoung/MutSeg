{
 "cells": [
  {
   "cell_type": "code",
   "execution_count": 1,
   "metadata": {},
   "outputs": [],
   "source": [
    "import numpy as  np\n",
    "import matplotlib as mpl\n",
    "import matplotlib.pyplot as plt\n",
    "from mpl_toolkits.axes_grid1 import make_axes_locatable\n",
    "import os"
   ]
  },
  {
   "cell_type": "code",
   "execution_count": 2,
   "metadata": {},
   "outputs": [],
   "source": [
    "# set up display options\n",
    "plt.ioff()\n",
    "np.set_printoptions(suppress=True)\n",
    "np.random.seed(69)\n",
    "# requires latex to be installed\n",
    "# sudo apt install texlive-latex-base, texlive-latex-extra, dvipng\n",
    "# warning: > 1GB install\n",
    "font_dict = {\n",
    "\t'family':'sans-serif',\n",
    "\t'sans-serif':['Computer Modern'],\n",
    "\t'size': 28\n",
    "}\n",
    "mpl.rc('font',**font_dict)\n",
    "mpl.rc('text',usetex=True)"
   ]
  },
  {
   "cell_type": "code",
   "execution_count": 3,
   "metadata": {},
   "outputs": [],
   "source": [
    "# set up constants\n",
    "chrm_len = 249250621\n",
    "MAX_MUT = 13000.0\n",
    "T = 4"
   ]
  },
  {
   "cell_type": "code",
   "execution_count": 4,
   "metadata": {},
   "outputs": [],
   "source": [
    "# naive\n",
    "naive_segs = [1000000 for i in range(0, chrm_len, 1000000)]\n",
    "naive_segs = np.array(naive_segs)\n",
    "naive_segs[-1] = chrm_len - np.sum(naive_segs[:-1])\n",
    "assert np.sum(naive_segs) == chrm_len, np.sum(naive_segs)\n",
    "naive_muts_t = np.random.uniform(low=0.0,high=MAX_MUT/T,size=[len(naive_segs),T])\n",
    "naive_muts = np.sum(naive_muts_t, axis=1)\n",
    "naive_probs_t = naive_muts_t / naive_muts.reshape(-1,1)\n",
    "naive_ents = np.sum(- naive_probs_t * np.log2(naive_probs_t), axis=1)"
   ]
  },
  {
   "cell_type": "code",
   "execution_count": 5,
   "metadata": {},
   "outputs": [],
   "source": [
    "# optimal \n",
    "opt_segs = 10**np.random.uniform(low=0.0,high=3.0,size=len(naive_segs))\n",
    "opt_segs *= chrm_len / np.sum(opt_segs)\n",
    "opt_segs = np.around(opt_segs).astype(np.int)\n",
    "opt_segs[-1] = chrm_len - np.sum(opt_segs[:-1])\n",
    "assert np.sum(opt_segs) == chrm_len, np.sum(opt_segs)\n",
    "opt_muts_t = np.random.uniform(low=0.0,high=MAX_MUT/T,size=[len(opt_segs),T])\n",
    "opt_muts = np.sum(opt_muts_t, axis=1)\n",
    "opt_probs_t = opt_muts_t / opt_muts.reshape(-1,1)\n",
    "opt_ents = np.sum(- opt_probs_t * np.log2(opt_probs_t), axis=1)"
   ]
  },
  {
   "cell_type": "code",
   "execution_count": 6,
   "metadata": {},
   "outputs": [],
   "source": [
    "# put them together\n",
    "both_segs = np.concatenate([naive_segs.reshape(-1,1),opt_segs.reshape(-1,1)], axis=1)\n",
    "both_muts = np.concatenate([naive_muts.reshape(-1,1),opt_muts.reshape(-1,1)], axis=1)\n",
    "both_ents = np.concatenate([naive_ents.reshape(-1,1),opt_ents.reshape(-1,1)], axis=1)"
   ]
  },
  {
   "cell_type": "code",
   "execution_count": 7,
   "metadata": {},
   "outputs": [
    {
     "name": "stdout",
     "output_type": "stream",
     "text": [
      "1000.0 12000.0\n"
     ]
    }
   ],
   "source": [
    "# set up the mut cmap\n",
    "# the minimum and maximum are rounded to the nearest 1000\n",
    "max_mut = np.ceil(np.max(both_muts) / 1000.0)*1000.0\n",
    "min_mut = np.ceil(np.min(both_muts) / 1000.0)*1000.0\n",
    "print(min_mut, max_mut)\n",
    "mut_cmap = plt.get_cmap(\"Blues\",1000)\n",
    "mut_norm = mpl.colors.Normalize(vmin=min_mut,vmax=max_mut)\n",
    "mut_sm = plt.cm.ScalarMappable(cmap=mut_cmap, norm=mut_norm)\n",
    "both_muts_colors = mut_sm.to_rgba(both_muts)"
   ]
  },
  {
   "cell_type": "code",
   "execution_count": 8,
   "metadata": {},
   "outputs": [
    {
     "name": "stdout",
     "output_type": "stream",
     "text": [
      "0.839825234919958 1.9979842237102632\n"
     ]
    }
   ],
   "source": [
    "# set up the ent cmap\n",
    "max_ent = np.max(both_ents)\n",
    "min_ent = np.min(both_ents)\n",
    "print(min_ent, max_ent)\n",
    "ent_cmap = plt.get_cmap(\"Reds\",1000)\n",
    "ent_norm = mpl.colors.Normalize(vmin=min_ent,vmax=max_ent)\n",
    "ent_sm = plt.cm.ScalarMappable(cmap=ent_cmap, norm=ent_norm)\n",
    "both_ents_colors = ent_sm.to_rgba(both_ents)"
   ]
  },
  {
   "cell_type": "code",
   "execution_count": 9,
   "metadata": {},
   "outputs": [],
   "source": [
    "# set up plot\n",
    "fig, ax = plt.subplots(figsize=(10,10))\n",
    "color1 = \"green\"\n",
    "color2 = \"#000000\" # \"black\"\n",
    "x_pos = [0.5,1.0,1.5,2.25,2.75,3.25]\n",
    "width = 0.40"
   ]
  },
  {
   "cell_type": "code",
   "execution_count": 10,
   "metadata": {},
   "outputs": [],
   "source": [
    "p_seg_init = ax.bar([x_pos[0],x_pos[3]], both_segs[0], width, color=color1)\n",
    "p_mut_init = ax.bar([x_pos[1],x_pos[4]], both_segs[0], width, color=both_muts_colors[0])\n",
    "p_ent_init = ax.bar([x_pos[2],x_pos[5]], both_segs[0], width, color=both_ents_colors[0])\n",
    "for i in range(1,len(opt_segs)):\n",
    "\tseg_color = (color1 if i % 2 == 0 else color2)\n",
    "\tp_seg = ax.bar([x_pos[0],x_pos[3]], both_segs[i], width, color=seg_color, bottom=np.sum(both_segs[:i],axis=0))\n",
    "\tmut_colors = both_muts_colors[i]\n",
    "\tp_mut = ax.bar([x_pos[1],x_pos[4]], both_segs[i], width, color=mut_colors, bottom=np.sum(both_segs[:i],axis=0))\n",
    "\tent_colors = both_ents_colors[i]\n",
    "\tp_ent = ax.bar([x_pos[2],x_pos[5]], both_segs[i], width, color=ent_colors, bottom=np.sum(both_segs[:i],axis=0))"
   ]
  },
  {
   "cell_type": "code",
   "execution_count": 11,
   "metadata": {},
   "outputs": [],
   "source": [
    "# mutation colorbar\n",
    "mut_sm.set_array([])\n",
    "cbaxes = fig.add_axes([0.9, 0.15, 0.03, 0.3]) \n",
    "mut_cbar_bounds = np.linspace(min_mut,max_mut,1000).astype(np.int)\n",
    "mut_cbar = plt.colorbar(ax=ax, mappable=mut_sm, cax=cbaxes, boundaries=mut_cbar_bounds)\n",
    "mut_cbar.set_ticks(np.linspace(min_mut,max_mut,5).astype(np.int))\n",
    "mut_cbar.set_ticklabels([f\"{i}k\" for i in np.linspace(min_mut/1000,max_mut/1000,5).astype(np.int)])\n",
    "mut_cbar.set_label(\"Muts (count)\",rotation=270,labelpad=30)"
   ]
  },
  {
   "cell_type": "code",
   "execution_count": 12,
   "metadata": {},
   "outputs": [],
   "source": [
    "# entropy colorbar\n",
    "ent_sm.set_array([])\n",
    "cbaxes = fig.add_axes([0.9, 0.525, 0.03, 0.3])\n",
    "ent_cbar_bounds = np.linspace(min_ent,max_ent,1000)\n",
    "ent_cbar = plt.colorbar(ax=ax, mappable=ent_sm, cax=cbaxes, boundaries=ent_cbar_bounds)\n",
    "ent_cbar.set_ticks(np.linspace(min_ent,max_ent,5))\n",
    "ent_cbar.set_ticklabels(np.around(np.linspace(min_ent,max_ent,5),decimals=1))\n",
    "ent_cbar.set_label(\"Entropy (bits)\",rotation=270,labelpad=35)"
   ]
  },
  {
   "cell_type": "code",
   "execution_count": 13,
   "metadata": {},
   "outputs": [],
   "source": [
    "ax.set_xticks([np.mean(x_pos[:3]),np.mean(x_pos[3:])])\n",
    "ax.set_xticklabels(['Naive', 'Optimal'])\n",
    "ax.set_xlim(0.0,x_pos[-1]+0.5)\n",
    "ax.tick_params(axis='x', pad=10, length=0)\n",
    "ax.set_ylim(0,chrm_len+1)\n",
    "max_tick = np.around(chrm_len, decimals=-7)\n",
    "ax.set_yticks(np.arange(0, max_tick+1, 20000000))\n",
    "ax.set_ylim(0,max_tick)\n",
    "# max_val = chrm_len\n",
    "# ax.set_yticks(np.linspace(0,max_val,10))\n",
    "ax.set_yticklabels(np.arange(0, int(np.floor(max_tick / 1000000))+1, 20))\n",
    "ax.set_ylabel(\"Position (Mb)\",labelpad=20)\n",
    "ax.spines[\"top\"].set_visible(False)\n",
    "ax.spines[\"bottom\"].set_visible(False)\n",
    "ax.spines[\"right\"].set_visible(False)"
   ]
  },
  {
   "cell_type": "code",
   "execution_count": 14,
   "metadata": {},
   "outputs": [
    {
     "data": {
      "image/png": "[encoded data removed]",
      "text/plain": [
       "<Figure size 720x720 with 3 Axes>"
      ]
     },
     "metadata": {
      "needs_background": "light"
     },
     "output_type": "display_data"
    }
   ],
   "source": [
    "# bbox = mpl.transforms.Bbox([[-2,-2],[12,12]])\n",
    "# fig.subplots_adjust(right=1.15)\n",
    "# fig.tight_layout(rect=[0,0,1.2,1])\n",
    "plt.savefig(\"poster/quick_test.png\",bbox_inches=\"tight\",format=\"png\")\n",
    "plt.show()"
   ]
  },
  {
   "cell_type": "code",
   "execution_count": null,
   "metadata": {},
   "outputs": [],
   "source": []
  }
 ],
 "metadata": {
  "kernelspec": {
   "display_name": "Python 3",
   "language": "python",
   "name": "python3"
  },
  "language_info": {
   "codemirror_mode": {
    "name": "ipython",
    "version": 3
   },
   "file_extension": ".py",
   "mimetype": "text/x-python",
   "name": "python",
   "nbconvert_exporter": "python",
   "pygments_lexer": "ipython3",
   "version": "3.7.6"
  }
 },
 "nbformat": 4,
 "nbformat_minor": 4
}
